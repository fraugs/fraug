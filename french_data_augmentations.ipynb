{
 "cells": [
  {
   "cell_type": "markdown",
   "metadata": {},
   "source": [
    "# Data augmentation in NLP"
   ]
  },
  {
   "cell_type": "code",
   "execution_count": 1,
   "metadata": {},
   "outputs": [],
   "source": [
    "text = \"\"\"Le pongiste français Alexis Lebrun, 19 ans, a réalisé un exploit ce vendredi 21 avril en battant le Chinois Fan Zhendong, numéro 1 mondial, en quarts de finale du tournoi WTT Champions de Macao, en Chine.\"\"\""
   ]
  },
  {
   "cell_type": "code",
   "execution_count": null,
   "metadata": {},
   "outputs": [],
   "source": []
  },
  {
   "cell_type": "markdown",
   "metadata": {},
   "source": [
    "# 1 Lexical substitution based on a masked language model (BERT)\n",
    "Modifying a random word.  \n",
    "We can then test something more complex based on POS to change some types of words and not others that might be important."
   ]
  },
  {
   "cell_type": "code",
   "execution_count": 2,
   "metadata": {},
   "outputs": [],
   "source": [
    "import random"
   ]
  },
  {
   "cell_type": "code",
   "execution_count": 3,
   "metadata": {},
   "outputs": [],
   "source": [
    "from transformers import pipeline"
   ]
  },
  {
   "cell_type": "code",
   "execution_count": 4,
   "metadata": {},
   "outputs": [],
   "source": [
    "camembert_fill_mask = pipeline(\"fill-mask\", model=\"camembert-base\", tokenizer=\"camembert-base\", top_k=7)"
   ]
  },
  {
   "cell_type": "code",
   "execution_count": 5,
   "metadata": {},
   "outputs": [
    {
     "name": "stdout",
     "output_type": "stream",
     "text": [
      "Le pongiste français Alexis Lebrun, 19 ans, a réalisé un exploit ce vendredi 21 avril en battant le Chinois Fan Zhendong, numéro 1 mondial, en quarts de finale du tournoi WTT Champions de Macao, en Chine.\n",
      "Le pongiste français Alexis Lebrun, 19 ans, a réalisé un exploit ce dimanche 21 avril en battant le Chinois Fan Zhendong, numéro 1 mondial, en quarts de finale du tournoi WTT Champions de Macao, en Chine.\n",
      "Wall time: 121 ms\n"
     ]
    }
   ],
   "source": [
    "%%time\n",
    "\n",
    "word_to_change = random.randint(0, len(text.replace(\",\",\"\").split())-1)\n",
    "new_text = []\n",
    "for word in range(len(text.split())):\n",
    "    if word == word_to_change :\n",
    "        new_text.append(text.split()[word].replace(text.split()[word_to_change],'<mask>'))\n",
    "    else :\n",
    "        new_text.append(text.split()[word])\n",
    "results = camembert_fill_mask(' '.join(new_text))\n",
    "\n",
    "# original text\n",
    "print(text)\n",
    "\n",
    "# new text\n",
    "if all(isinstance(elem, list) for elem in results):\n",
    "    # Sometimes the output from the pipeline is a single list containing the requested top_k and sometimes the pipeline returns a list of lists.\n",
    "    # So we must handle the two different cases.\n",
    "    if text.replace(\"\\n\",\"\") == results[0][0]['sequence']: # make sure that the new word chosen by CamemBERT is different from the one in the original text\n",
    "        print(results[0][random.randint(1,len(results)-1)]['sequence'])\n",
    "    else:\n",
    "        print(results[0][0]['sequence'])\n",
    "else :\n",
    "    if text.replace(\"\\n\",\"\") == results[0]['sequence']: # idem\n",
    "        print(results[random.randint(1,len(results)-1)]['sequence'])\n",
    "    else:\n",
    "        print(results[0]['sequence'])"
   ]
  },
  {
   "cell_type": "code",
   "execution_count": null,
   "metadata": {},
   "outputs": [],
   "source": []
  },
  {
   "cell_type": "code",
   "execution_count": null,
   "metadata": {},
   "outputs": [],
   "source": []
  },
  {
   "cell_type": "markdown",
   "metadata": {},
   "source": [
    "## 2. Rétro-traduction"
   ]
  },
  {
   "cell_type": "markdown",
   "metadata": {},
   "source": [
    "### 2.1. Marian (Helsinki-NLP models)\n",
    "Full doc : https://huggingface.co/transformers/model_doc/marian.html "
   ]
  },
  {
   "cell_type": "code",
   "execution_count": 9,
   "metadata": {},
   "outputs": [],
   "source": [
    "from transformers import pipeline"
   ]
  },
  {
   "cell_type": "code",
   "execution_count": 10,
   "metadata": {},
   "outputs": [
    {
     "name": "stdout",
     "output_type": "stream",
     "text": [
      "Le pongiste français Alexis Lebrun, 19 ans, a réalisé un exploit ce vendredi 21 avril en battant le Chinois Fan Zhendong, numéro 1 mondial, en quarts de finale du tournoi WTT Champions de Macao, en Chine.\n",
      "Le pongiste français Alexis Lebrun, 19 ans, a fait un exploit ce vendredi 21 avril en battant le Chinois Fan Zhendong, leader mondial, en quart de finale du tournoi WTT Champions à Macao, en Chine.\n",
      "Wall time: 7.47 s\n"
     ]
    }
   ],
   "source": [
    "%%time\n",
    "fwd_scr = 'fr'  # source language\n",
    "fwd_trg = 'en'  # target language\n",
    "rev_scr = 'en'  # source language\n",
    "rev_trg = 'fr'  # target language\n",
    "\n",
    "forward_translator = pipeline(\"translation\", f'Helsinki-NLP/opus-mt-{fwd_scr}-{fwd_trg}', f'Helsinki-NLP/opus-mt-{fwd_scr}-{fwd_trg}')\n",
    "reverse_translator = pipeline(\"translation\", f'Helsinki-NLP/opus-mt-{rev_scr}-{rev_trg}', f'Helsinki-NLP/opus-mt-{rev_scr}-{rev_trg}')\n",
    "new_text = reverse_translator(forward_translator(text)[0]['translation_text'])\n",
    "\n",
    "# original text\n",
    "print(text)\n",
    "\n",
    "# new text\n",
    "print(new_text[0]['translation_text'])"
   ]
  },
  {
   "cell_type": "code",
   "execution_count": null,
   "metadata": {},
   "outputs": [],
   "source": []
  },
  {
   "cell_type": "markdown",
   "metadata": {},
   "source": [
    "### 2.2.2 M2M100\n",
    "Full doc : https://huggingface.co/transformers/model_doc/m2m_100.html  \n",
    "Sumamry : a single model with about 400M parameters (proposed by Facebook) that manages about 100 languages  \n",
    "\n",
    "Two implementations are available: one based on the HF pipeline function, the other using the m2m100 model card code.  \n",
    "The pipeline seems to take much longer to run. So it may not be the best approach to take."
   ]
  },
  {
   "cell_type": "code",
   "execution_count": null,
   "metadata": {},
   "outputs": [],
   "source": [
    "from transformers import pipeline"
   ]
  },
  {
   "cell_type": "code",
   "execution_count": 18,
   "metadata": {},
   "outputs": [
    {
     "name": "stdout",
     "output_type": "stream",
     "text": [
      "Le pongiste français Alexis Lebrun, 19 ans, a réalisé un exploit ce vendredi 21 avril en battant le Chinois Fan Zhendong, numéro 1 mondial, en quarts de finale du tournoi WTT Champions de Macao, en Chine.\n",
      "Le pongiste français Alexis Lebrun, âgé de 19 ans, a fait un résultat vendredi 21 avril en défaisant le chinois Fan Zhendong, numéro un mondial, dans les quarts de finale du Tournoi des champions du WTT à Macao, en Chine.\n",
      "Wall time: 43.7 s\n"
     ]
    }
   ],
   "source": [
    "%%time\n",
    "\n",
    "forward_translator = pipeline('translation', 'facebook/m2m100_418M', src_lang=fwd_scr, tgt_lang=fwd_trg)\n",
    "reverse_translator = pipeline('translation', 'facebook/m2m100_418M', src_lang=rev_scr, tgt_lang=rev_trg)\n",
    "new_text = reverse_translator(forward_translator(text)[0]['translation_text'])\n",
    "\n",
    "# original text\n",
    "print(text)\n",
    "\n",
    "# new text\n",
    "print(new_text[0]['translation_text'])"
   ]
  },
  {
   "cell_type": "code",
   "execution_count": 16,
   "metadata": {},
   "outputs": [],
   "source": [
    "from transformers import M2M100ForConditionalGeneration, M2M100Tokenizer\n",
    "\n",
    "model = M2M100ForConditionalGeneration.from_pretrained(\"facebook/m2m100_418M\")\n",
    "tokenizer = M2M100Tokenizer.from_pretrained(\"facebook/m2m100_418M\")"
   ]
  },
  {
   "cell_type": "code",
   "execution_count": 17,
   "metadata": {},
   "outputs": [
    {
     "name": "stderr",
     "output_type": "stream",
     "text": [
      "C:\\Users\\lbourdois\\Anaconda3\\lib\\site-packages\\transformers\\generation_utils.py:1359: UserWarning: Neither `max_length` nor `max_new_tokens` has been set, `max_length` will default to 200 (`self.config.max_length`). Controlling `max_length` via the config is deprecated and `max_length` will be removed from the config in v5 of Transformers -- we recommend using `max_new_tokens` to control the maximum length of the generation.\n",
      "  warnings.warn(\n"
     ]
    },
    {
     "name": "stdout",
     "output_type": "stream",
     "text": [
      "Le pongiste français Alexis Lebrun, 19 ans, a réalisé un exploit ce vendredi 21 avril en battant le Chinois Fan Zhendong, numéro 1 mondial, en quarts de finale du tournoi WTT Champions de Macao, en Chine.\n",
      "Le pongiste français Alexis Lebrun, âgé de 19 ans, a fait un résultat vendredi 21 avril en défaisant le chinois Fan Zhendong, numéro un mondial, dans les quarts de finale du Tournoi des champions du WTT à Macao, en Chine.\n",
      "Wall time: 24.1 s\n"
     ]
    }
   ],
   "source": [
    "%%time\n",
    "# forward_translator\n",
    "tokenizer.src_lang = \"fr\"\n",
    "encoded = tokenizer(text, return_tensors=\"pt\")\n",
    "generated_tokens = model.generate(**encoded, forced_bos_token_id=tokenizer.get_lang_id(\"en\"))\n",
    "# tokenizer.batch_decode(generated_tokens, skip_special_tokens=True\n",
    "                       \n",
    "# forward_translator\n",
    "src_text = tokenizer.batch_decode(generated_tokens, skip_special_tokens=True)\n",
    "tokenizer.src_lang = \"en\"\n",
    "encoded = tokenizer(src_text, return_tensors=\"pt\")\n",
    "generated_tokens = model.generate(**encoded, forced_bos_token_id=tokenizer.get_lang_id(\"fr\"))\n",
    "\n",
    "# original text\n",
    "print(text)\n",
    "\n",
    "# new text\n",
    "print(tokenizer.batch_decode(generated_tokens, skip_special_tokens=True)[0])"
   ]
  },
  {
   "cell_type": "code",
   "execution_count": null,
   "metadata": {},
   "outputs": [],
   "source": []
  }
 ],
 "metadata": {
  "kernelspec": {
   "display_name": "Python 3",
   "language": "python",
   "name": "python3"
  },
  "language_info": {
   "codemirror_mode": {
    "name": "ipython",
    "version": 3
   },
   "file_extension": ".py",
   "mimetype": "text/x-python",
   "name": "python",
   "nbconvert_exporter": "python",
   "pygments_lexer": "ipython3",
   "version": "3.8.5"
  }
 },
 "nbformat": 4,
 "nbformat_minor": 2
}
